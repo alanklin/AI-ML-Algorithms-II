{
 "cells": [
  {
   "cell_type": "markdown",
   "metadata": {
    "colab_type": "text",
    "id": "view-in-github"
   },
   "source": [
    "<a href=\"https://colab.research.google.com/github/mrdbourke/pytorch-deep-learning/blob/main/extras/exercises/01_pytorch_workflow_exercises.ipynb\" target=\"_parent\"><img src=\"https://colab.research.google.com/assets/colab-badge.svg\" alt=\"Open In Colab\"/></a>"
   ]
  },
  {
   "cell_type": "markdown",
   "metadata": {
    "id": "N8LsPXZti9Sw"
   },
   "source": [
    "# 01. PyTorch Workflow Exercise Template\n",
    "\n",
    "The following is a template for the PyTorch workflow exercises.\n",
    "\n",
    "It's only starter code and it's your job to fill in the blanks.\n",
    "\n",
    "Because of the flexibility of PyTorch, there may be more than one way to answer the question.\n",
    "\n",
    "Don't worry about trying to be *right* just try writing code that suffices the question."
   ]
  },
  {
   "cell_type": "code",
   "execution_count": 1,
   "metadata": {
    "id": "Glu2fM4dkNlx"
   },
   "outputs": [],
   "source": [
    "# Import necessary libraries\n",
    "import torch\n",
    "from matplotlib import pyplot as plt"
   ]
  },
  {
   "cell_type": "code",
   "execution_count": 2,
   "metadata": {
    "id": "LqKhXY26m31s",
    "tags": []
   },
   "outputs": [],
   "source": [
    "# Setup device-agnostic code\n",
    "\n",
    "if torch.cuda.is_available():\n",
    "  device = \"cuda\" # NVIDIA GPU\n",
    "else:\n",
    "  device = \"cpu\"\n"
   ]
  },
  {
   "cell_type": "code",
   "execution_count": 3,
   "metadata": {},
   "outputs": [
    {
     "data": {
      "text/plain": [
       "'cpu'"
      ]
     },
     "execution_count": 3,
     "metadata": {},
     "output_type": "execute_result"
    }
   ],
   "source": [
    "device"
   ]
  },
  {
   "cell_type": "markdown",
   "metadata": {
    "id": "g7HUhxCxjeBx"
   },
   "source": [
    "## 1. Create a straight line dataset using the linear regression formula (`weight * X + bias`).\n",
    "  * Set `weight=0.3` and `bias=0.9` there should be at least 100 datapoints total. \n",
    "  * Split the data into 80% training, 20% testing.\n",
    "  * Plot the training and testing data so it becomes visual.\n",
    "\n",
    "Your output of the below cell should look something like:\n",
    "```\n",
    "Number of X samples: 100\n",
    "Number of y samples: 100\n",
    "First 10 X & y samples:\n",
    "X: tensor([0.0000, 0.0100, 0.0200, 0.0300, 0.0400, 0.0500, 0.0600, 0.0700, 0.0800,\n",
    "        0.0900])\n",
    "y: tensor([0.9000, 0.9030, 0.9060, 0.9090, 0.9120, 0.9150, 0.9180, 0.9210, 0.9240,\n",
    "        0.9270])\n",
    "```\n",
    "\n",
    "Of course the numbers in `X` and `y` may be different but ideally they're created using the linear regression formula."
   ]
  },
  {
   "cell_type": "code",
   "execution_count": 4,
   "metadata": {
    "id": "KbDG5MV7jhvE"
   },
   "outputs": [
    {
     "name": "stdout",
     "output_type": "stream",
     "text": [
      "Number of X samples: 100\n",
      "Number of y samples: 100\n",
      "First 10 X & y samples:\n",
      "X: tensor([[0.6822],\n",
      "        [0.1269],\n",
      "        [0.0375],\n",
      "        [0.4817],\n",
      "        [0.9533],\n",
      "        [0.7239],\n",
      "        [0.6359],\n",
      "        [0.8467],\n",
      "        [0.8428],\n",
      "        [0.6528]])\n",
      "y: tensor([[1.1047],\n",
      "        [0.9381],\n",
      "        [0.9112],\n",
      "        [1.0445],\n",
      "        [1.1860],\n",
      "        [1.1172],\n",
      "        [1.0908],\n",
      "        [1.1540],\n",
      "        [1.1528],\n",
      "        [1.0959]])\n"
     ]
    }
   ],
   "source": [
    "# Create the data parameters\n",
    "weight = 0.3\n",
    "bias = 0.9\n",
    "X = torch.rand(100).unsqueeze(dim = 1)\n",
    "y = weight * X + bias\n",
    "\n",
    "# Make X and y using linear regression feature\n",
    "\n",
    "\n",
    "print(f\"Number of X samples: {len(X)}\")\n",
    "print(f\"Number of y samples: {len(y)}\")\n",
    "print(f\"First 10 X & y samples:\\nX: {X[:10]}\\ny: {y[:10]}\")"
   ]
  },
  {
   "cell_type": "code",
   "execution_count": 5,
   "metadata": {
    "id": "GlwtT1djkmLw"
   },
   "outputs": [],
   "source": [
    "# Split the data into training and testing\n",
    "train_split = int(0.8 * len(X))\n",
    "x_train_data, x_test_data = X[train_split:], X[:train_split]\n",
    "\n",
    "\n",
    "y_train_data, y_test_data = y[train_split:], y[:train_split]"
   ]
  },
  {
   "cell_type": "code",
   "execution_count": 6,
   "metadata": {
    "id": "29iQZFNhlYJ-"
   },
   "outputs": [
    {
     "data": {
      "text/plain": [
       "[<matplotlib.lines.Line2D at 0x171d8184dd0>]"
      ]
     },
     "execution_count": 6,
     "metadata": {},
     "output_type": "execute_result"
    },
    {
     "data": {
      "image/png": "[encoded data removed]",
      "text/plain": [
       "<Figure size 640x480 with 1 Axes>"
      ]
     },
     "metadata": {},
     "output_type": "display_data"
    }
   ],
   "source": [
    "# Plot the training and testing data \n",
    "plt.plot(x_train_data.numpy(), y_train_data.numpy())"
   ]
  },
  {
   "cell_type": "code",
   "execution_count": 7,
   "metadata": {},
   "outputs": [
    {
     "data": {
      "text/plain": [
       "[<matplotlib.lines.Line2D at 0x171d932ea50>]"
      ]
     },
     "execution_count": 7,
     "metadata": {},
     "output_type": "execute_result"
    },
    {
     "data": {
      "image/png": "[encoded data removed]",
      "text/plain": [
       "<Figure size 640x480 with 1 Axes>"
      ]
     },
     "metadata": {},
     "output_type": "display_data"
    }
   ],
   "source": [
    "plt.plot(x_test_data.numpy(), y_test_data.numpy())"
   ]
  },
  {
   "cell_type": "markdown",
   "metadata": {
    "id": "ImZoe3v8jif8"
   },
   "source": [
    "## 2. Build a PyTorch model by subclassing `nn.Module`. \n",
    "  * Inside should be a randomly initialized `nn.Parameter()` with `requires_grad=True`, one for `weights` and one for `bias`. \n",
    "  * Implement the `forward()` method to compute the linear regression function you used to create the dataset in 1. \n",
    "  * Once you've constructed the model, make an instance of it and check its `state_dict()`.\n",
    "  * **Note:** If you'd like to use `nn.Linear()` instead of `nn.Parameter()` you can."
   ]
  },
  {
   "cell_type": "code",
   "execution_count": 8,
   "metadata": {
    "id": "qzd__Y5rjtB8"
   },
   "outputs": [
    {
     "data": {
      "text/plain": [
       "(Model(\n",
       "   (linear_layer): Linear(in_features=1, out_features=1, bias=True)\n",
       " ),\n",
       " OrderedDict([('linear_layer.weight', tensor([[0.1230]])),\n",
       "              ('linear_layer.bias', tensor([-0.6452]))]))"
      ]
     },
     "execution_count": 8,
     "metadata": {},
     "output_type": "execute_result"
    }
   ],
   "source": [
    "# Create PyTorch linear regression model by subclassing nn.Module\n",
    "import torch.nn as nn\n",
    "\n",
    "\n",
    "class Model(nn.Module):\n",
    "    def __init__(self):\n",
    "        super().__init__()\n",
    "        self.linear_layer = nn.Linear(in_features = 1, out_features = 1)\n",
    "        \n",
    "\n",
    "    def forward(self, x: torch.Tensor) -> torch.Tensor:\n",
    "        \n",
    "        return self.linear_layer(x)\n",
    "    \n",
    "torch.manual_seed(20)\n",
    "model = Model()\n",
    "\n",
    "model, model.state_dict()"
   ]
  },
  {
   "cell_type": "code",
   "execution_count": 9,
   "metadata": {
    "id": "5LdcDnmOmyQ2"
   },
   "outputs": [
    {
     "data": {
      "text/plain": [
       "device(type='cpu')"
      ]
     },
     "execution_count": 9,
     "metadata": {},
     "output_type": "execute_result"
    }
   ],
   "source": [
    "# Instantiate the model and put it to the target device\n",
    "model.to(device)\n",
    "next(model.parameters()).device\n"
   ]
  },
  {
   "cell_type": "markdown",
   "metadata": {
    "id": "G6nYOrJhjtfu"
   },
   "source": [
    "## 3. Create a loss function and optimizer using `nn.L1Loss()` and `torch.optim.SGD(params, lr)` respectively. \n",
    "  * Set the learning rate of the optimizer to be 0.01 and the parameters to optimize should be the model parameters from the model you created in 2.\n",
    "  * Write a training loop to perform the appropriate training steps for 300 epochs.\n",
    "  * The training loop should test the model on the test dataset every 20 epochs."
   ]
  },
  {
   "cell_type": "code",
   "execution_count": 10,
   "metadata": {
    "id": "ltvoZ-FWjv1j"
   },
   "outputs": [],
   "source": [
    "# Create the loss function and optimizer\n",
    "loss = nn.L1Loss()\n",
    "optimizer = torch.optim.SGD(params = model.parameters(), lr = 0.01)"
   ]
  },
  {
   "cell_type": "code",
   "execution_count": 11,
   "metadata": {
    "id": "xpE83NvNnkdV"
   },
   "outputs": [],
   "source": [
    "# Training loop\n",
    "\n",
    "\n",
    "# Train model for 300 epochs\n",
    "epochs = 300\n",
    "\n",
    "# Send data to target device\n",
    "X_train = x_train_data.to(device)\n",
    "X_test= x_test_data.to(device)\n",
    "y_train = y_train_data.to(device)\n",
    "y_test = y_test_data.to(device)\n",
    "\n",
    "for epoch in range(epochs):\n",
    "  ### Training\n",
    "\n",
    "  # Put model in train mode\n",
    "  def train():\n",
    "    model.train()\n",
    "  # 1. Forward pass\n",
    "    y_pred = model(X_train)\n",
    "\n",
    "\n",
    "  # 2. Calculate loss\n",
    "    loss = loss(y_pred, y_train)\n",
    "\n",
    "  # 3. Zero gradients\n",
    "    optimizer.zero_grad()\n",
    "\n",
    "  # 4. Backpropagation\n",
    "    loss.backward()\n",
    "\n",
    "  # 5. Step the optimizer\n",
    "    optimizer.step()\n",
    "\n",
    "def test():\n",
    "  ### Perform testing every 20 epochs\n",
    "  if epoch % 20 == 0:\n",
    "\n",
    "    # Put model in evaluation mode and setup inference context \n",
    "    model.eval()\n",
    "      # 1. Forward pass\n",
    "    test_pred = model(X_test)\n",
    "      # 2. Calculate test loss\n",
    "    test_loss = loss(test_pred, y_test)\n",
    "      # Print out what's happening\n",
    "    print(f\"Epoch: {epoch} | Train loss: {loss:.3f} | Test loss: {test_loss:.3f}\")"
   ]
  },
  {
   "cell_type": "markdown",
   "metadata": {
    "id": "x4j4TM18jwa7"
   },
   "source": [
    "## 4. Make predictions with the trained model on the test data.\n",
    "  * Visualize these predictions against the original training and testing data (**note:** you may need to make sure the predictions are *not* on the GPU if you want to use non-CUDA-enabled libraries such as matplotlib to plot)."
   ]
  },
  {
   "cell_type": "code",
   "execution_count": 12,
   "metadata": {
    "id": "bbMPK5Qjjyx_"
   },
   "outputs": [
    {
     "data": {
      "text/plain": [
       "tensor([[-0.5613],\n",
       "        [-0.6296],\n",
       "        [-0.6406],\n",
       "        [-0.5860],\n",
       "        [-0.5280],\n",
       "        [-0.5562],\n",
       "        [-0.5670],\n",
       "        [-0.5411],\n",
       "        [-0.5416],\n",
       "        [-0.5649],\n",
       "        [-0.5307],\n",
       "        [-0.5459],\n",
       "        [-0.6374],\n",
       "        [-0.5648],\n",
       "        [-0.5318],\n",
       "        [-0.5261],\n",
       "        [-0.5729],\n",
       "        [-0.5872],\n",
       "        [-0.5354],\n",
       "        [-0.5891],\n",
       "        [-0.6222],\n",
       "        [-0.5643],\n",
       "        [-0.5435],\n",
       "        [-0.5251],\n",
       "        [-0.5493],\n",
       "        [-0.5247],\n",
       "        [-0.6236],\n",
       "        [-0.5375],\n",
       "        [-0.5875],\n",
       "        [-0.6385],\n",
       "        [-0.5515],\n",
       "        [-0.6297],\n",
       "        [-0.5502],\n",
       "        [-0.5569],\n",
       "        [-0.6234],\n",
       "        [-0.6305],\n",
       "        [-0.5628],\n",
       "        [-0.5261],\n",
       "        [-0.5271],\n",
       "        [-0.6420],\n",
       "        [-0.5824],\n",
       "        [-0.5353],\n",
       "        [-0.5558],\n",
       "        [-0.6291],\n",
       "        [-0.6307],\n",
       "        [-0.5903],\n",
       "        [-0.5764],\n",
       "        [-0.5872],\n",
       "        [-0.6070],\n",
       "        [-0.6143],\n",
       "        [-0.5920],\n",
       "        [-0.5234],\n",
       "        [-0.5730],\n",
       "        [-0.5399],\n",
       "        [-0.5540],\n",
       "        [-0.5912],\n",
       "        [-0.6094],\n",
       "        [-0.5735],\n",
       "        [-0.5281],\n",
       "        [-0.5617],\n",
       "        [-0.5360],\n",
       "        [-0.5645],\n",
       "        [-0.5885],\n",
       "        [-0.5447],\n",
       "        [-0.6308],\n",
       "        [-0.6043],\n",
       "        [-0.5766],\n",
       "        [-0.6446],\n",
       "        [-0.5664],\n",
       "        [-0.5656],\n",
       "        [-0.6407],\n",
       "        [-0.5314],\n",
       "        [-0.5528],\n",
       "        [-0.5503],\n",
       "        [-0.5787],\n",
       "        [-0.5567],\n",
       "        [-0.6165],\n",
       "        [-0.5448],\n",
       "        [-0.5873],\n",
       "        [-0.5716]])"
      ]
     },
     "execution_count": 12,
     "metadata": {},
     "output_type": "execute_result"
    }
   ],
   "source": [
    "# Make predictions with the model\n",
    "model.eval()\n",
    "with torch.inference_mode():\n",
    "    y_preds = model(X_test)\n",
    "y_preds    "
   ]
  },
  {
   "cell_type": "code",
   "execution_count": 13,
   "metadata": {
    "id": "K3BdmQaDpFo8"
   },
   "outputs": [
    {
     "data": {
      "text/plain": [
       "<matplotlib.collections.PathCollection at 0x171dc68f110>"
      ]
     },
     "execution_count": 13,
     "metadata": {},
     "output_type": "execute_result"
    },
    {
     "data": {
      "image/png": "[encoded data removed]",
      "text/plain": [
       "<Figure size 640x480 with 1 Axes>"
      ]
     },
     "metadata": {},
     "output_type": "display_data"
    }
   ],
   "source": [
    "# Plot the predictions (these may need to be on a specific device)\n",
    "plt.scatter(X_test,y_preds)"
   ]
  },
  {
   "cell_type": "markdown",
   "metadata": {
    "id": "s2OnlMWKjzX8"
   },
   "source": [
    "## 5. Save your trained model's `state_dict()` to file.\n",
    "  * Create a new instance of your model class you made in 2. and load in the `state_dict()` you just saved to it.\n",
    "  * Perform predictions on your test data with the loaded model and confirm they match the original model predictions from 4."
   ]
  },
  {
   "cell_type": "code",
   "execution_count": 14,
   "metadata": {
    "id": "hgxhgD14qr-i"
   },
   "outputs": [],
   "source": [
    "from pathlib import Path\n",
    "\n",
    "# 1. Create models directory \n",
    "name = \"lin_pytorchmodel.pt\"\n",
    "path = Path('model')\n",
    "path.mkdir(parents=  True, exist_ok= True)\n",
    "# 2. Create model save path \n",
    "save_path = path / name\n",
    "# 3. Save the model state dict\n",
    "torch.save(obj = model.state_dict(), f = save_path)\n",
    "\n"
   ]
  },
  {
   "cell_type": "code",
   "execution_count": 15,
   "metadata": {
    "id": "P9vTgiLRrJ7T"
   },
   "outputs": [
    {
     "name": "stdout",
     "output_type": "stream",
     "text": [
      "Loaded :\n",
      "Model(\n",
      "  (linear_layer): Linear(in_features=1, out_features=1, bias=True)\n",
      ")\n",
      "device :\n",
      "cpu\n"
     ]
    }
   ],
   "source": [
    "# Create new instance of model and load saved state dict (make sure to put it on the target device)\n",
    "\n",
    "model1 = Model()\n",
    "model1.load_state_dict(torch.load(save_path))\n",
    "\n",
    "model1.to(device)\n",
    "\n",
    "print(f\"Loaded :\\n{model1}\")\n",
    "print(f\"device :\\n{next(model1.parameters()).device}\")"
   ]
  },
  {
   "cell_type": "code",
   "execution_count": 16,
   "metadata": {
    "id": "8UGX3VebrVtI"
   },
   "outputs": [
    {
     "data": {
      "text/plain": [
       "tensor([[True],\n",
       "        [True],\n",
       "        [True],\n",
       "        [True],\n",
       "        [True],\n",
       "        [True],\n",
       "        [True],\n",
       "        [True],\n",
       "        [True],\n",
       "        [True],\n",
       "        [True],\n",
       "        [True],\n",
       "        [True],\n",
       "        [True],\n",
       "        [True],\n",
       "        [True],\n",
       "        [True],\n",
       "        [True],\n",
       "        [True],\n",
       "        [True],\n",
       "        [True],\n",
       "        [True],\n",
       "        [True],\n",
       "        [True],\n",
       "        [True],\n",
       "        [True],\n",
       "        [True],\n",
       "        [True],\n",
       "        [True],\n",
       "        [True],\n",
       "        [True],\n",
       "        [True],\n",
       "        [True],\n",
       "        [True],\n",
       "        [True],\n",
       "        [True],\n",
       "        [True],\n",
       "        [True],\n",
       "        [True],\n",
       "        [True],\n",
       "        [True],\n",
       "        [True],\n",
       "        [True],\n",
       "        [True],\n",
       "        [True],\n",
       "        [True],\n",
       "        [True],\n",
       "        [True],\n",
       "        [True],\n",
       "        [True],\n",
       "        [True],\n",
       "        [True],\n",
       "        [True],\n",
       "        [True],\n",
       "        [True],\n",
       "        [True],\n",
       "        [True],\n",
       "        [True],\n",
       "        [True],\n",
       "        [True],\n",
       "        [True],\n",
       "        [True],\n",
       "        [True],\n",
       "        [True],\n",
       "        [True],\n",
       "        [True],\n",
       "        [True],\n",
       "        [True],\n",
       "        [True],\n",
       "        [True],\n",
       "        [True],\n",
       "        [True],\n",
       "        [True],\n",
       "        [True],\n",
       "        [True],\n",
       "        [True],\n",
       "        [True],\n",
       "        [True],\n",
       "        [True],\n",
       "        [True]])"
      ]
     },
     "execution_count": 16,
     "metadata": {},
     "output_type": "execute_result"
    }
   ],
   "source": [
    "# Make predictions with loaded model and compare them to the previous\n",
    "model1.eval()\n",
    "\n",
    "with torch.inference_mode():\n",
    "    new_preds = model1(X_test)\n",
    "\n",
    "y_preds == new_preds"
   ]
  },
  {
   "cell_type": "code",
   "execution_count": 17,
   "metadata": {},
   "outputs": [
    {
     "data": {
      "text/plain": [
       "<matplotlib.collections.PathCollection at 0x171dc6f0830>"
      ]
     },
     "execution_count": 17,
     "metadata": {},
     "output_type": "execute_result"
    },
    {
     "data": {
      "image/png": "[encoded data removed]",
      "text/plain": [
       "<Figure size 640x480 with 1 Axes>"
      ]
     },
     "metadata": {},
     "output_type": "display_data"
    }
   ],
   "source": [
    "plt.scatter(X_test,new_preds)"
   ]
  }
 ],
 "metadata": {
  "accelerator": "GPU",
  "colab": {
   "authorship_tag": "ABX9TyNYzatJtFkfUqqdiR6rYwVL",
   "collapsed_sections": [],
   "include_colab_link": true,
   "name": "01_pytorch_workflow_exercises.ipynb",
   "provenance": []
  },
  "kernelspec": {
   "display_name": "CaseComp",
   "language": "python",
   "name": "python3"
  },
  "language_info": {
   "codemirror_mode": {
    "name": "ipython",
    "version": 3
   },
   "file_extension": ".py",
   "mimetype": "text/x-python",
   "name": "python",
   "nbconvert_exporter": "python",
   "pygments_lexer": "ipython3",
   "version": "3.12.7"
  }
 },
 "nbformat": 4,
 "nbformat_minor": 4
}
