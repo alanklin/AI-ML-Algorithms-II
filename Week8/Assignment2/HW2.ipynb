{
 "cells": [
  {
   "cell_type": "markdown",
   "metadata": {},
   "source": [
    "HW 2 - Use TensorFlow can handle to show how to obtain the partial derivative of the function L(w,b) = ||wX+b -y||^2  for w,b  respectively by tf.GradientTape() where X = [[1 2], [3 4]] and y = [1, 2] and w = [1, 2] and b =1"
   ]
  },
  {
   "cell_type": "code",
   "execution_count": null,
   "metadata": {
    "vscode": {
     "languageId": "plaintext"
    }
   },
   "outputs": [],
   "source": [
    "import tensorflow as tf\n",
    "import numpy as np"
   ]
  },
  {
   "cell_type": "code",
   "execution_count": null,
   "metadata": {
    "vscode": {
     "languageId": "plaintext"
    }
   },
   "outputs": [],
   "source": [
    "X = tf.Variable([[1,2], [3,4]])\n",
    "\n",
    "y = tf.Variable([1,2])\n",
    "\n",
    "w = [1,2]\n",
    "b = 1\n",
    "\n",
    "with tf.GradientTape() as g:\n",
    "    g.watch(w,b)\n",
    "    f = np.su\n",
    "\n"
   ]
  }
 ],
 "metadata": {
  "language_info": {
   "name": "python"
  }
 },
 "nbformat": 4,
 "nbformat_minor": 2
}
