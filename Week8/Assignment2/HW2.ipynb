{
 "cells": [
  {
   "cell_type": "markdown",
   "metadata": {},
   "source": [
    "HW 2 - Use TensorFlow can handle to show how to obtain the partial derivative of the function L(w,b) = ||wX+b -y||^2  for w,b  respectively by tf.GradientTape() where X = [[1 2], [3 4]] and y = [1, 2] and w = [1, 2] and b =1"
   ]
  },
  {
   "cell_type": "code",
   "execution_count": 6,
   "metadata": {},
   "outputs": [],
   "source": [
    "import tensorflow as tf\n",
    "import numpy as np"
   ]
  },
  {
   "cell_type": "code",
   "execution_count": 7,
   "metadata": {},
   "outputs": [],
   "source": [
    "w = tf.constant([1.,2.], shape = [1,2], dtype = tf.float32)\n",
    "\n",
    "y = tf.constant([1,2], dtype= tf.float32)\n",
    "\n",
    "X = tf.constant([[1.,2.],\n",
    "                 [3.,4.]], dtype = tf.float32)\n",
    "\n",
    "b = tf.constant(1.0, tf.float32)\n"
   ]
  },
  {
   "cell_type": "code",
   "execution_count": 8,
   "metadata": {},
   "outputs": [
    {
     "name": "stdout",
     "output_type": "stream",
     "text": [
      "tf.Tensor([[2.192645  4.9992304]], shape=(1, 2), dtype=float32)\n"
     ]
    }
   ],
   "source": [
    "with tf.GradientTape() as g:\n",
    "    g.watch([y,w])\n",
    "    l = tf.norm(tf.matmul(w,X) + b - y, ord =2)\n",
    "\n",
    "dl_dw = g.gradient(l,w)\n",
    "print(dl_dw)"
   ]
  },
  {
   "cell_type": "code",
   "execution_count": 9,
   "metadata": {},
   "outputs": [
    {
     "name": "stdout",
     "output_type": "stream",
     "text": [
      "tf.Tensor(1.4032928, shape=(), dtype=float32)\n"
     ]
    }
   ],
   "source": [
    "with tf.GradientTape() as g:\n",
    "    g.watch([y,b])\n",
    "    l = tf.norm(tf.matmul(w,X) + b - y, ord =2)\n",
    "\n",
    "dl_db = g.gradient(l,b)\n",
    "print(dl_db)"
   ]
  }
 ],
 "metadata": {
  "kernelspec": {
   "display_name": "CaseComp",
   "language": "python",
   "name": "python3"
  },
  "language_info": {
   "codemirror_mode": {
    "name": "ipython",
    "version": 3
   },
   "file_extension": ".py",
   "mimetype": "text/x-python",
   "name": "python",
   "nbconvert_exporter": "python",
   "pygments_lexer": "ipython3",
   "version": "3.12.7"
  }
 },
 "nbformat": 4,
 "nbformat_minor": 2
}
